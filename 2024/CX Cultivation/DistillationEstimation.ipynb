{
 "cells": [
  {
   "cell_type": "code",
   "id": "initial_id",
   "metadata": {
    "collapsed": true,
    "ExecuteTime": {
     "end_time": "2025-01-15T08:16:52.096984Z",
     "start_time": "2025-01-15T08:16:52.095009Z"
    }
   },
   "source": [
    "import numpy as np\n",
    "import qutip as qp\n",
    "print(\"\"\"\n",
    "Based on the Matheamtica notebook from https://arxiv.org/pdf/1905.06903\n",
    "\"\"\")"
   ],
   "outputs": [
    {
     "name": "stdout",
     "output_type": "stream",
     "text": [
      "\n",
      "Based on the Matheamtica notebook from https://arxiv.org/pdf/1905.06903\n",
      "\n"
     ]
    }
   ],
   "execution_count": 197
  },
  {
   "metadata": {
    "ExecuteTime": {
     "end_time": "2025-01-15T08:16:52.122542Z",
     "start_time": "2025-01-15T08:16:52.119826Z"
    }
   },
   "cell_type": "code",
   "source": [
    "def pauli_rot(axis, phi):\n",
    "    return np.cos(phi) * qp.tensor([one]*len(axis)) + 1j * np.sin(phi) * qp.tensor(axis)\n",
    "\n",
    "def apply_rot(rho, axis, p1, p2 ,p3):\n",
    "    rot_0 = pauli_rot(axis, np.pi/8)\n",
    "    rot_1 = pauli_rot(axis, 5*np.pi/8)\n",
    "    rot_2 = pauli_rot(axis, -np.pi/8)\n",
    "    rot_3 = pauli_rot(axis, 3*np.pi/8)\n",
    "\n",
    "    return (1-p1-p2-p3) * rot_0 * rho*rot_0.dag() + \\\n",
    "                     p1 * rot_1 * rho*rot_1.dag() + \\\n",
    "                     p2 * rot_2 * rho*rot_2.dag() + \\\n",
    "                     p3 * rot_3 * rho*rot_3.dag()\n",
    "\n",
    "def apply_pauli(rho, pauli, p):\n",
    "    P = qp.tensor(pauli)\n",
    "    return (1-p) * rho + p * P * rho * P.dag()"
   ],
   "id": "3e0e77e596480fec",
   "outputs": [],
   "execution_count": 198
  },
  {
   "metadata": {
    "ExecuteTime": {
     "end_time": "2025-01-15T08:16:52.138041Z",
     "start_time": "2025-01-15T08:16:52.136145Z"
    }
   },
   "cell_type": "code",
   "source": [
    "one = qp.identity(2)\n",
    "x = qp.sigmax()\n",
    "y = qp.sigmay()\n",
    "z = qp.sigmaz()\n",
    "proj_x = (one+x)/2"
   ],
   "id": "ceb9e3b4d71634cd",
   "outputs": [],
   "execution_count": 199
  },
  {
   "metadata": {
    "ExecuteTime": {
     "end_time": "2025-01-15T08:16:52.149484Z",
     "start_time": "2025-01-15T08:16:52.147270Z"
    }
   },
   "cell_type": "code",
   "source": [
    "# magic_state = qp.Qobj(np.array([[1, np.exp(-1j*np.pi/4)]]).conj().T @ np.array([[1, np.exp(-1j*np.pi/4)]])/2)\n",
    "plus_state = proj_x\n",
    "magic_state = apply_rot(proj_x, [-z], 0,0,0)\n"
   ],
   "id": "b1377e28021b857",
   "outputs": [],
   "execution_count": 200
  },
  {
   "metadata": {
    "ExecuteTime": {
     "end_time": "2025-01-15T08:16:52.158982Z",
     "start_time": "2025-01-15T08:16:52.156706Z"
    }
   },
   "cell_type": "code",
   "source": [
    "init_4_qubits = qp.tensor(plus_state,plus_state,plus_state,plus_state)\n",
    "init_5_qubits = qp.tensor(plus_state,plus_state,plus_state,plus_state,plus_state)\n",
    "init_6_qubits = qp.tensor(plus_state,plus_state,plus_state,plus_state,plus_state,plus_state)\n"
   ],
   "id": "a8eb9144edaacbc8",
   "outputs": [],
   "execution_count": 201
  },
  {
   "metadata": {
    "ExecuteTime": {
     "end_time": "2025-01-15T08:16:52.167649Z",
     "start_time": "2025-01-15T08:16:52.165570Z"
    }
   },
   "cell_type": "code",
   "source": [
    "ideal_15_to_1 = qp.tensor(magic_state,plus_state,plus_state,plus_state, plus_state)\n",
    "ideal_20_to_4 = qp.tensor(magic_state,magic_state,magic_state,magic_state,plus_state,plus_state,plus_state)\n"
   ],
   "id": "26db5ee3bdffa670",
   "outputs": [],
   "execution_count": 202
  },
  {
   "metadata": {
    "ExecuteTime": {
     "end_time": "2025-01-15T08:16:52.182274Z",
     "start_time": "2025-01-15T08:16:52.179868Z"
    }
   },
   "cell_type": "code",
   "source": [
    "pth = 0.01\n",
    "eth = 0.05\n",
    "d_scaling = 0.7\n",
    "def plog(p_phys, e_phys, d, d_scaling=d_scaling):\n",
    "    assert d > 1\n",
    "    assert p_phys < pth\n",
    "    assert e_phys < eth\n",
    "\n",
    "    x = (p_phys/pth + e_phys/eth)\n",
    "    if e_phys == 0:\n",
    "        return 0.1 * x ** ((d+1)/2)\n",
    "    return 0.1 * x ** (d_scaling * d)\n"
   ],
   "id": "8fb368a6e38a5425",
   "outputs": [],
   "execution_count": 203
  },
  {
   "metadata": {
    "ExecuteTime": {
     "end_time": "2025-01-15T08:16:52.191957Z",
     "start_time": "2025-01-15T08:16:52.188924Z"
    }
   },
   "cell_type": "code",
   "source": [
    "def storage_qubit(rho, single_qubit_error, *ps):\n",
    "    output = rho.copy()\n",
    "    for idx, p in enumerate(ps):\n",
    "        ls = [one]*len(ps)\n",
    "        ls[idx] = single_qubit_error\n",
    "        output = apply_pauli(rho ,ls, p)\n",
    "    return output\n",
    "\n",
    "def storage_z4_qubit(rho, p1, p2, p3, p4):\n",
    "    return storage_qubit(rho, z, p1, p2, p3, p4)\n",
    "\n",
    "def storage_x4_qubit(rho, p1, p2, p3, p4):\n",
    "    return storage_qubit(rho, x, p1, p2, p3, p4)\n",
    "\n",
    "def storage_z5_qubit(rho, p1, p2, p3, p4, p5):\n",
    "    return storage_qubit(rho, z, p1, p2, p3, p4,p5)\n",
    "\n",
    "def storage_x5_qubit(rho, p1, p2, p3, p4,p5):\n",
    "    return storage_qubit(rho, x, p1, p2, p3, p4, p5)\n",
    "\n",
    "def storage_z7_qubit(rho, p1, p2, p3, p4, p5, p6, p7):\n",
    "    return storage_qubit(rho, z, p1, p2, p3, p4, p5, p6, p7)\n",
    "\n",
    "def storage_x7_qubit(rho, p1, p2, p3, p4, p5, p6, p7):\n",
    "    return storage_qubit(rho, x, p1, p2, p3, p4, p5, p6, p7)\n",
    "\n"
   ],
   "id": "8fc5d753190c9a5a",
   "outputs": [],
   "execution_count": 204
  },
  {
   "metadata": {
    "ExecuteTime": {
     "end_time": "2025-01-15T08:31:22.001671Z",
     "start_time": "2025-01-15T08:31:21.987959Z"
    }
   },
   "cell_type": "code",
   "source": [
    "def one_level_15_to_1(p_inject, p_phys, e_phys, dx, dz, dm):\n",
    "\n",
    "    px = plog(p_phys, e_phys, dx)\n",
    "    pz = plog(p_phys, e_phys, dz)\n",
    "    pm = plog(p_phys, e_phys, dm)\n",
    "\n",
    "    output = init_5_qubits.copy()\n",
    "    p_phys = p_inject\n",
    "\n",
    "    # Step 1: Apply rotations 1-4\n",
    "    output = apply_rot(output, [one, z, one, one, one],\n",
    "                       p_phys/3 + 1/2 * dm/dz * pz * dm,\n",
    "                       p_phys/3 + 1/2 * dz * pm,\n",
    "                       p_phys/3)\n",
    "    output = apply_rot(output, [one, one, z, one, one],\n",
    "                       p_phys/3 + 1/2 * dm/dz * pz * dm,\n",
    "                       p_phys/3 + 1/2 * dz * pm,\n",
    "                       p_phys/3)\n",
    "    output = apply_rot(output, [one, one, one, z, one],\n",
    "                       p_phys/3 + 1/2 * dm/dz * pz * dm,\n",
    "                       p_phys/3 + 1/2 * dz * pm,\n",
    "                       p_phys/3)\n",
    "    output = apply_rot(output, [one, z, z, z, one],\n",
    "                       p_phys/3 + 1/2 * pm * dm,\n",
    "                       p_phys/3 + 1/2 * pm * dm + 1/2 * (3 * dz * dx)/dm * pm,\n",
    "                       p_phys/3)\n",
    "\n",
    "    # Apply storage errors for dm code cycles\n",
    "    output = storage_x5_qubit(output, 0, 1/2 * dz/dx * px * dm, 1/2 * dz/dx * px * dm,     1/2 * dz/dx * px * dm, 0)\n",
    "    output = storage_z5_qubit(output, 0, 1/2 * dx/dz * pz * dm, 1/2 * dx/dz * pz * dm,     1/2 * dx/dz * pz * dm, 0)\n",
    "\n",
    "    # Step 2: Apply rotations 6-7\n",
    "    output = apply_rot(output, [z, z, z, one, one],\n",
    "                       p_phys/3 + 1/2 * pm * dm,\n",
    "                       p_phys/3 + 1/2 * pm * dm + 1/2 * ((dx + 2 * dz) * dx)/dm * pm,\n",
    "                       p_phys/3)\n",
    "    output = apply_rot(output, [z, z, one, z, one],\n",
    "                       p_phys/3 + 1/2 * pm * dm,\n",
    "                       p_phys/3 + 1/2 * pm * dm + 1/2 * ((dx + 3 * dz) * dx)/dm * pm,\n",
    "                       p_phys/3)\n",
    "    output = storage_z5_qubit(output, 1/2 * ((dx + 2 * dz) + (dx + 3 * dz))/dx * px *     dm, 0, 0, 0, 0)\n",
    "\n",
    "    # Apply storage errors for dm code cycles\n",
    "    output = storage_x5_qubit(output, 1/2 * px * dm, 1/2 * dz/dx * px * dm, 1/2 * dz/dx     * px * dm, 1/2 * dz/dx * px * dm, 0)\n",
    "    output = storage_z5_qubit(output, 1/2 * px * dm, 1/2 * dx/dz * pz * dm, 1/2 * dx/dz     * pz * dm, 1/2 * dx/dz * pz * dm, 0)\n",
    "\n",
    "    # Step 3: Apply rotations 4 and 8-9\n",
    "    output = apply_rot(output, [z, one, z, z, one],\n",
    "                       p_phys/3 + 1/2 * pm * dm,\n",
    "                       p_phys/3 + 1/2 * pm * dm + 1/2 * ((dx + 3 * dz) * dx)/dm * pm,\n",
    "                       p_phys/3)\n",
    "    output = apply_rot(output, [z, one, one, z, z],\n",
    "                       p_phys/3 + 1/2 * pm * dm,\n",
    "                       p_phys/3 + 1/2 * pm * dm + 1/2 * ((dx + 4 * dz) * dx)/dm * pm,\n",
    "                       p_phys/3)\n",
    "    output = apply_rot(output, [one, one, one, one, z],\n",
    "                       p_phys/3 + 1/2 * dm/dz * pz * dm,\n",
    "                       p_phys/3 + 1/2 * dz * pm,\n",
    "                       p_phys/3)\n",
    "    output = storage_z5_qubit(output, 1/2 * ((dx + 3 * dz) + (dx + 4 * dz))/dx * px *     dm, 0, 0, 0, 0)\n",
    "\n",
    "    # Apply storage errors for dm code cycles\n",
    "    output = storage_x5_qubit(output, 1/2 * px * dm, 1/2 * dz/dx * px * dm, 1/2 * dz/dx     * px * dm, 1/2 * dz/dx * px * dm, 1/2 * dz/dx * px * dm)\n",
    "    output = storage_z5_qubit(output, 1/2 * px * dm, 1/2 * dx/dz * pz * dm, 1/2 * dx/dz     * pz * dm, 1/2 * dx/dz * pz * dm, 1/2 * dx/dz * pz * dm)\n",
    "\n",
    "    # Step 4: Apply rotations 10-11\n",
    "    output = apply_rot(output, [z, z, one, one, z],\n",
    "                       p_phys/3 + 1/2 * pm * dm,\n",
    "                       p_phys/3 + 1/2 * pm * dm + 1/2 * ((dx + 4 * dz) * dx)/dm * pm,\n",
    "                       p_phys/3)\n",
    "    output = apply_rot(output, [z, one, z, one, z],\n",
    "                       p_phys/3 + 1/2 * pm * dm,\n",
    "                       p_phys/3 + 1/2 * pm * dm + 1/2 * ((dx + 4 * dz) * dx)/dm * pm,\n",
    "                       p_phys/3)\n",
    "    output = storage_z5_qubit(output, 1/2 * ((dx + 4 * dz) + (dx + 4 * dz))/dx * px *     dm, 0, 0, 0, 0)\n",
    "\n",
    "    # Apply storage errors for dm code cycles\n",
    "    output = storage_x5_qubit(output, 1/2 * px * dm, 1/2 * dz/dx * px * dm, 1/2 * dz/dx     * px * dm, 1/2 * dz/dx * px * dm, 1/2 * dz/dx * px * dm)\n",
    "    output = storage_z5_qubit(output, 1/2 * px * dm, 1/2 * dx/dz * pz * dm, 1/2 * dx/dz     * pz * dm, 1/2 * dx/dz * pz * dm, 1/2 * dx/dz * pz * dm)\n",
    "\n",
    "    # Step 5: Apply rotations 12-13\n",
    "    output = apply_rot(output, [z, z, z, z, z],\n",
    "                       p_phys/3 + 1/2 * pm * dm,\n",
    "                       p_phys/3 + 1/2 * pm * dm + 1/2 * ((dx + 4 * dz) * dx)/dm * pm,\n",
    "                       p_phys/3)\n",
    "    output = apply_rot(output, [one, one, z, z, z],\n",
    "                       p_phys/3 + 1/2 * pm * dm,\n",
    "                       p_phys/3 + 1/2 * pm * dm + 1/2 * (3 * dz * dx)/dm * pm,\n",
    "                       p_phys/3)\n",
    "    output = storage_z5_qubit(output, 1/2 * (dx + 4 * dz)/dx * px * dm, 0, 0, 0, 0)\n",
    "\n",
    "    # Apply storage errors for dm code cycles\n",
    "    output = storage_x5_qubit(output, 1/2 * px * (dm + 2 * dx), 1/2 * dz/dx * px * dm,\n",
    "                              1/2 * dz/dx * px * dm, 1/2 * dz/dx * px * dm, 1/2 * dz/dx     * px * dm)\n",
    "    output = storage_z5_qubit(output, 1/2 * px * (dm + 2 * dx), 1/2 * dx/dz * pz * dm,\n",
    "                              1/2 * dx/dz * pz * dm, 1/2 * dx/dz * pz * dm, 1/2 * dx/dz     * pz * dm)\n",
    "\n",
    "    # Step 6: Apply rotations 14-15\n",
    "    output = apply_rot(output, [one, z, one, z, z],\n",
    "                   p_phys/3 + 1/2 * pm * dm,\n",
    "                   p_phys/3 + 1/2 * pm * dm + 1/2 * (4 * dz * dx)/dm * pm,\n",
    "                   p_phys/3)\n",
    "    output = apply_rot(output, [one, z, z, one, z],\n",
    "                       p_phys/3 + 1/2 * pm * dm,\n",
    "                       p_phys/3 + 1/2 * pm * dm + 1/2 * (4 * dz * dx)/dm * pm,\n",
    "                       p_phys/3)\n",
    "\n",
    "    # Apply storage errors for dm code cycles\n",
    "    output = storage_x5_qubit(output, 0, 1/2 * dz/dx * px * dm, 1/2 * dz/dx * px * dm,\n",
    "                              1/2 * dz/dx * px * dm, 1/2 * dz/dx * px * dm)\n",
    "    output = storage_z5_qubit(output, 0, 1/2 * dx/dz * pz * dm, 1/2 * dx/dz * pz * dm,\n",
    "                          1/2 * dx/dz * pz * dm, 1/2 * dx/dz * pz * dm)\n",
    "\n",
    "    return output"
   ],
   "id": "9fff1cb17f007814",
   "outputs": [],
   "execution_count": 222
  },
  {
   "metadata": {
    "ExecuteTime": {
     "end_time": "2025-01-15T08:31:22.281Z",
     "start_time": "2025-01-15T08:31:22.277588Z"
    }
   },
   "cell_type": "code",
   "source": [
    "def cost_of_one_level_15_to_1(p_inject, p_phys, e_phys, dx, dz, dm):\n",
    "    out = one_level_15_to_1(p_inject=p_inject,\n",
    "                            p_phys=p_phys,\n",
    "                            e_phys=e_phys,\n",
    "                            dx=dx,\n",
    "                            dz=dz,\n",
    "                            dm=dm)\n",
    "\n",
    "    projection = qp.tensor([one, proj_x,proj_x,proj_x,proj_x])\n",
    "    p_fail = np.real(1 - (out*projection).tr())\n",
    "    out_post_sel = 1/(1-p_fail) * projection*out*projection.dag()\n",
    "    p_out = np.real(1 - (out_post_sel*ideal_15_to_1).tr())\n",
    "    print(projection.tr(), out.tr(), out_post_sel.tr(), ideal_15_to_1.tr(), (out_post_sel*ideal_15_to_1).tr())\n",
    "    space_cost = 2*(3*dx*(dx+4*dz)+2*dm)\n",
    "    time_cost = 6*dm/(1-p_fail)\n",
    "\n",
    "    print(f\"15-to-1, {dx}, {dz}, {dm} with p_phys={p_phys}, e_phys={e_phys}, dx={dx}, dz={dz}, dm={dm}\")\n",
    "    print(f\"Output error p_out = {p_out}\")\n",
    "    print(f'Failure Probability p_fail = {p_fail}')\n",
    "    print(f\"Space cost {round(space_cost,2)}\")\n",
    "    print(f\"Time code {round(time_cost,2)}\")\n",
    "    print(f\"Spacetime cost {round(space_cost*time_cost,2)}\")\n",
    "\n"
   ],
   "id": "ef97a1d0647a94d5",
   "outputs": [],
   "execution_count": 223
  },
  {
   "metadata": {
    "ExecuteTime": {
     "end_time": "2025-01-15T08:31:22.737857Z",
     "start_time": "2025-01-15T08:31:22.727569Z"
    }
   },
   "cell_type": "code",
   "source": [
    "cost_of_one_level_15_to_1(p_inject=1e-3,\n",
    "                          p_phys=1e-3,\n",
    "                          e_phys=0,\n",
    "                          dx=7,\n",
    "                          dz=3,\n",
    "                          dm=3)"
   ],
   "id": "62794e0aea01f47e",
   "outputs": [
    {
     "name": "stdout",
     "output_type": "stream",
     "text": [
      "2.0 0.9999999999999999 0.9999999999999999 1.0 (0.9999631375729772-5.551115123125783e-17j)\n",
      "15-to-1, 7, 3, 3 with p_phys=0.001, e_phys=0, dx=7, dz=3, dm=3\n",
      "Output error p_out = 3.686242702283238e-05\n",
      "Failure Probability p_fail = 0.14230382668648445\n",
      "Space cost 810\n",
      "Time code 20.99\n",
      "Spacetime cost 16999.03\n"
     ]
    }
   ],
   "execution_count": 224
  },
  {
   "metadata": {
    "ExecuteTime": {
     "end_time": "2025-01-15T08:37:02.292296Z",
     "start_time": "2025-01-15T08:37:02.289236Z"
    }
   },
   "cell_type": "code",
   "source": "proj_x",
   "id": "4352d6699c90457b",
   "outputs": [
    {
     "data": {
      "text/plain": [
       "Quantum object: dims=[[2], [2]], shape=(2, 2), type='oper', dtype=CSR, isherm=True\n",
       "Qobj data =\n",
       "[[0.5 0.5]\n",
       " [0.5 0.5]]"
      ],
      "text/latex": "Quantum object: dims=[[2], [2]], shape=(2, 2), type='oper', dtype=CSR, isherm=True$$\\left(\\begin{array}{cc}0.500 & 0.500\\\\0.500 & 0.500\\end{array}\\right)$$"
     },
     "execution_count": 227,
     "metadata": {},
     "output_type": "execute_result"
    }
   ],
   "execution_count": 227
  },
  {
   "metadata": {
    "ExecuteTime": {
     "end_time": "2025-01-15T08:37:04.926524Z",
     "start_time": "2025-01-15T08:37:04.923514Z"
    }
   },
   "cell_type": "code",
   "source": "magic_state",
   "id": "a98b8e18e8ada07e",
   "outputs": [
    {
     "data": {
      "text/plain": [
       "Quantum object: dims=[[2], [2]], shape=(2, 2), type='oper', dtype=CSR, isherm=True\n",
       "Qobj data =\n",
       "[[0.5       +0.j         0.35355339-0.35355339j]\n",
       " [0.35355339+0.35355339j 0.5       +0.j        ]]"
      ],
      "text/latex": "Quantum object: dims=[[2], [2]], shape=(2, 2), type='oper', dtype=CSR, isherm=True$$\\left(\\begin{array}{cc}0.500 & (0.354-0.354j)\\\\(0.354+0.354j) & 0.500\\end{array}\\right)$$"
     },
     "execution_count": 228,
     "metadata": {},
     "output_type": "execute_result"
    }
   ],
   "execution_count": 228
  },
  {
   "metadata": {
    "ExecuteTime": {
     "end_time": "2025-01-15T08:37:06.037163Z",
     "start_time": "2025-01-15T08:37:06.034193Z"
    }
   },
   "cell_type": "code",
   "source": "one",
   "id": "5fbe8a8b1420be55",
   "outputs": [
    {
     "data": {
      "text/plain": [
       "Quantum object: dims=[[2], [2]], shape=(2, 2), type='oper', dtype=Dia, isherm=True\n",
       "Qobj data =\n",
       "[[1. 0.]\n",
       " [0. 1.]]"
      ],
      "text/latex": "Quantum object: dims=[[2], [2]], shape=(2, 2), type='oper', dtype=Dia, isherm=True$$\\left(\\begin{array}{cc}1 & 0\\\\0 & 1\\end{array}\\right)$$"
     },
     "execution_count": 229,
     "metadata": {},
     "output_type": "execute_result"
    }
   ],
   "execution_count": 229
  },
  {
   "metadata": {},
   "cell_type": "code",
   "outputs": [],
   "execution_count": null,
   "source": "",
   "id": "a297a0560038d55a"
  }
 ],
 "metadata": {
  "kernelspec": {
   "display_name": "Python 3",
   "language": "python",
   "name": "python3"
  },
  "language_info": {
   "codemirror_mode": {
    "name": "ipython",
    "version": 2
   },
   "file_extension": ".py",
   "mimetype": "text/x-python",
   "name": "python",
   "nbconvert_exporter": "python",
   "pygments_lexer": "ipython2",
   "version": "2.7.6"
  }
 },
 "nbformat": 4,
 "nbformat_minor": 5
}
